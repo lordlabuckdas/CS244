{
 "cells": [
  {
   "cell_type": "markdown",
   "id": "removable-check",
   "metadata": {},
   "source": [
    "# HA1 COVID 19 Data"
   ]
  },
  {
   "cell_type": "code",
   "execution_count": 1,
   "id": "reported-software",
   "metadata": {},
   "outputs": [],
   "source": [
    "import pandas as pd # for reading csv file\n",
    "import matplotlib.pyplot as plot # for plotting graphs\n",
    "import numpy as np # for mean and median calculations\n",
    "import statistics as stat # for variance calculation"
   ]
  },
  {
   "cell_type": "markdown",
   "id": "closing-typing",
   "metadata": {},
   "source": [
    "**Reading the CSV file**"
   ]
  },
  {
   "cell_type": "code",
   "execution_count": 2,
   "id": "architectural-rebound",
   "metadata": {},
   "outputs": [],
   "source": [
    "covid_data = pd.read_csv('MD_COVID-19.csv')"
   ]
  },
  {
   "cell_type": "markdown",
   "id": "empirical-maker",
   "metadata": {},
   "source": [
    "**Preparing list of regions**"
   ]
  },
  {
   "cell_type": "code",
   "execution_count": 3,
   "id": "decent-being",
   "metadata": {
    "scrolled": false
   },
   "outputs": [
    {
     "data": {
      "text/plain": [
       "['Allegany',\n",
       " 'Anne_Arundel',\n",
       " 'Baltimore',\n",
       " 'Baltimore_City',\n",
       " 'Calvert',\n",
       " 'Caroline',\n",
       " 'Washington']"
      ]
     },
     "execution_count": 3,
     "metadata": {},
     "output_type": "execute_result"
    }
   ],
   "source": [
    "regions_list = list(dict(covid_data).keys())[2:] # 1st 2 columns are not regions\n",
    "regions_list"
   ]
  },
  {
   "cell_type": "markdown",
   "id": "concerned-means",
   "metadata": {},
   "source": [
    "**Preparing list of total cases region-wise**"
   ]
  },
  {
   "cell_type": "code",
   "execution_count": 4,
   "id": "hindu-peninsula",
   "metadata": {
    "scrolled": true
   },
   "outputs": [
    {
     "data": {
      "text/plain": [
       "[366903.0, 2890716, 4845533, 4179710, 271086.0, 169976.0, 670274.0]"
      ]
     },
     "execution_count": 4,
     "metadata": {},
     "output_type": "execute_result"
    }
   ],
   "source": [
    "region_total_list = []\n",
    "for region in regions_list:\n",
    "    region_total_list.append(covid_data[region].sum())\n",
    "region_total_list"
   ]
  },
  {
   "cell_type": "markdown",
   "id": "solar-greeting",
   "metadata": {},
   "source": [
    "**Preparing a 2-dimensional list of number of cases per day region-wise**"
   ]
  },
  {
   "cell_type": "code",
   "execution_count": 5,
   "id": "minimal-wrestling",
   "metadata": {},
   "outputs": [],
   "source": [
    "regions_cases_list = []\n",
    "for region in regions_list:\n",
    "    regions_cases_list.append(list(covid_data[region].fillna(0))) # some values are nan (empty)"
   ]
  },
  {
   "cell_type": "markdown",
   "id": "intended-budapest",
   "metadata": {},
   "source": [
    "## 1A Bar Graph"
   ]
  },
  {
   "cell_type": "code",
   "execution_count": 6,
   "id": "accompanied-intranet",
   "metadata": {
    "scrolled": true
   },
   "outputs": [
    {
     "data": {
      "image/png": "[encoded data removed]",
      "text/plain": [
       "<Figure size 432x288 with 1 Axes>"
      ]
     },
     "metadata": {
      "needs_background": "light"
     },
     "output_type": "display_data"
    }
   ],
   "source": [
    "fig1 = plot.figure()\n",
    "ax1 = fig1.add_axes([0,0,1,1])\n",
    "ax1.bar(regions_list, region_total_list)\n",
    "plot.ylabel(\"Total Cases\")\n",
    "plot.xlabel(\"Regions in USA\")\n",
    "plot.show()"
   ]
  },
  {
   "cell_type": "markdown",
   "id": "neural-craft",
   "metadata": {},
   "source": [
    "## 1B Pie Chart"
   ]
  },
  {
   "cell_type": "markdown",
   "id": "excessive-whole",
   "metadata": {},
   "source": [
    "**Calculating the total number of cases across all regions**"
   ]
  },
  {
   "cell_type": "code",
   "execution_count": 7,
   "id": "demonstrated-freight",
   "metadata": {},
   "outputs": [
    {
     "data": {
      "text/plain": [
       "13394198.0"
      ]
     },
     "execution_count": 7,
     "metadata": {},
     "output_type": "execute_result"
    }
   ],
   "source": [
    "total_cases = 0\n",
    "for region_total in region_total_list:\n",
    "    total_cases += region_total\n",
    "total_cases"
   ]
  },
  {
   "cell_type": "markdown",
   "id": "adult-cemetery",
   "metadata": {},
   "source": [
    "**Preparing list pf percentage of cases region-wise**"
   ]
  },
  {
   "cell_type": "code",
   "execution_count": 8,
   "id": "russian-wilderness",
   "metadata": {},
   "outputs": [
    {
     "data": {
      "text/plain": [
       "[2.739268151777359,\n",
       " 21.581852082521102,\n",
       " 36.176357852855396,\n",
       " 31.205377134188996,\n",
       " 2.0239061719111513,\n",
       " 1.2690270817259832,\n",
       " 5.004211525020012]"
      ]
     },
     "execution_count": 8,
     "metadata": {},
     "output_type": "execute_result"
    }
   ],
   "source": [
    "regions_percentage_list = []\n",
    "for region_total in region_total_list:\n",
    "    regions_percentage_list.append(region_total*100.0/total_cases)\n",
    "regions_percentage_list"
   ]
  },
  {
   "cell_type": "code",
   "execution_count": 9,
   "id": "oriented-enforcement",
   "metadata": {
    "scrolled": true
   },
   "outputs": [
    {
     "data": {
      "image/png": "[encoded data removed]",
      "text/plain": [
       "<Figure size 432x288 with 1 Axes>"
      ]
     },
     "metadata": {},
     "output_type": "display_data"
    }
   ],
   "source": [
    "fig2, ax2 = plot.subplots()\n",
    "ax2.pie(regions_percentage_list, labels=regions_list, autopct='%1.1f%%', shadow=True)\n",
    "plot.show()"
   ]
  },
  {
   "cell_type": "markdown",
   "id": "careful-niagara",
   "metadata": {},
   "source": [
    "## 2 Box Plot"
   ]
  },
  {
   "cell_type": "code",
   "execution_count": 10,
   "id": "universal-savings",
   "metadata": {},
   "outputs": [
    {
     "data": {
      "image/png": "[encoded data removed]",
      "text/plain": [
       "<Figure size 720x504 with 1 Axes>"
      ]
     },
     "metadata": {
      "needs_background": "light"
     },
     "output_type": "display_data"
    }
   ],
   "source": [
    "fig3 = plot.figure(1, figsize=(10,7))\n",
    "ax3 =fig3.add_subplot(111)\n",
    "bp =ax3.boxplot(regions_cases_list)\n",
    "plot.xticks([i+1 for i in range(len(regions_list))], regions_list)\n",
    "plot.show()"
   ]
  },
  {
   "cell_type": "markdown",
   "id": "automatic-airfare",
   "metadata": {},
   "source": [
    "## 3A Mean"
   ]
  },
  {
   "cell_type": "code",
   "execution_count": 11,
   "id": "controlled-belfast",
   "metadata": {},
   "outputs": [
    {
     "data": {
      "text/plain": [
       "{'Allegany': 1179.7524115755627,\n",
       " 'Anne_Arundel': 9294.906752411576,\n",
       " 'Baltimore': 15580.491961414791,\n",
       " 'Baltimore_City': 13439.581993569132,\n",
       " 'Calvert': 871.6591639871383,\n",
       " 'Caroline': 546.5466237942122,\n",
       " 'Washington': 2155.2218649517686}"
      ]
     },
     "execution_count": 11,
     "metadata": {},
     "output_type": "execute_result"
    }
   ],
   "source": [
    "mean_dict = {}\n",
    "for i in range(len(regions_list)):\n",
    "    mean_dict[regions_list[i]] = np.mean(regions_cases_list[i])\n",
    "mean_dict"
   ]
  },
  {
   "cell_type": "markdown",
   "id": "intellectual-reproduction",
   "metadata": {},
   "source": [
    "## 3B Median"
   ]
  },
  {
   "cell_type": "code",
   "execution_count": 12,
   "id": "adaptive-spectacular",
   "metadata": {},
   "outputs": [
    {
     "data": {
      "text/plain": [
       "{'Allegany': 343.0,\n",
       " 'Anne_Arundel': 7700.0,\n",
       " 'Baltimore': 14043.0,\n",
       " 'Baltimore_City': 13507.0,\n",
       " 'Calvert': 742.0,\n",
       " 'Caroline': 465.0,\n",
       " 'Washington': 1138.0}"
      ]
     },
     "execution_count": 12,
     "metadata": {},
     "output_type": "execute_result"
    }
   ],
   "source": [
    "median_dict = {}\n",
    "for i in range(len(regions_list)):\n",
    "    median_dict[regions_list[i]] = np.median(regions_cases_list[i])\n",
    "median_dict"
   ]
  },
  {
   "cell_type": "markdown",
   "id": "finnish-library",
   "metadata": {},
   "source": [
    "## 3C Variance"
   ]
  },
  {
   "cell_type": "code",
   "execution_count": 13,
   "id": "golden-alignment",
   "metadata": {},
   "outputs": [
    {
     "data": {
      "text/plain": [
       "{'Allegany': 3269634.0965667465,\n",
       " 'Anne_Arundel': 56876920.25901878,\n",
       " 'Baltimore': 145022354.6313868,\n",
       " 'Baltimore_City': 96669833.39890052,\n",
       " 'Calvert': 529846.2189399439,\n",
       " 'Caroline': 174197.22281920962,\n",
       " 'Washington': 6903986.553842962}"
      ]
     },
     "execution_count": 13,
     "metadata": {},
     "output_type": "execute_result"
    }
   ],
   "source": [
    "variance_dict = {}\n",
    "for i in range(len(regions_list)):\n",
    "    variance_dict[regions_list[i]] = stat.variance(regions_cases_list[i])\n",
    "variance_dict"
   ]
  }
 ],
 "metadata": {
  "kernelspec": {
   "display_name": "Python 3",
   "language": "python",
   "name": "python3"
  },
  "language_info": {
   "codemirror_mode": {
    "name": "ipython",
    "version": 3
   },
   "file_extension": ".py",
   "mimetype": "text/x-python",
   "name": "python",
   "nbconvert_exporter": "python",
   "pygments_lexer": "ipython3",
   "version": "3.8.5"
  }
 },
 "nbformat": 4,
 "nbformat_minor": 5
}
